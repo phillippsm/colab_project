{
  "nbformat": 4,
  "nbformat_minor": 0,
  "metadata": {
    "colab": {
      "name": "ACT Notifiable Invoices Register.ipynb",
      "provenance": [],
      "collapsed_sections": [],
      "authorship_tag": "ABX9TyNAlAVT0BfJ30OQ2rVhXI0F",
      "include_colab_link": true
    },
    "kernelspec": {
      "name": "python3",
      "display_name": "Python 3"
    }
  },
  "cells": [
    {
      "cell_type": "markdown",
      "metadata": {
        "id": "view-in-github",
        "colab_type": "text"
      },
      "source": [
        "<a href=\"https://colab.research.google.com/github/phillippsm/colab_project/blob/colab_dev/ACT_Notifiable_Invoices_Register.ipynb\" target=\"_parent\"><img src=\"https://colab.research.google.com/assets/colab-badge.svg\" alt=\"Open In Colab\"/></a>"
      ]
    },
    {
      "cell_type": "markdown",
      "metadata": {
        "id": "DgZ7nWCfRqn9",
        "colab_type": "text"
      },
      "source": [
        "# Exploring Datasets\n",
        "### Distribution Shapes\n",
        "### Measures of Central Tendency\n",
        "### Central Limit Theorem\n"
      ]
    },
    {
      "cell_type": "code",
      "metadata": {
        "id": "gHLYtQiqcoxP",
        "colab_type": "code",
        "colab": {}
      },
      "source": [
        "# We need Pandas and NumPy for these exercises\n",
        "import pandas as pd\n",
        "import numpy as np\n"
      ],
      "execution_count": 0,
      "outputs": []
    },
    {
      "cell_type": "markdown",
      "metadata": {
        "id": "rwViTx_NSD3K",
        "colab_type": "text"
      },
      "source": [
        "### ACT Government Open Data Portal\n",
        "#### Notifiable Invoices Register"
      ]
    },
    {
      "cell_type": "code",
      "metadata": {
        "id": "8tI1aQWghVM2",
        "colab_type": "code",
        "colab": {}
      },
      "source": [
        "# Read the latest 1000 records from the Notifiable Invoices Register API\n",
        "nir_act = pd.read_csv(\"https://www.data.act.gov.au/resource/kzmf-7uhp.csv\", parse_dates={\"invoice_received_dt\": ['date_invoice_received'], \"payment_dt\": ['payment_date']})\n",
        "# This also converts dates from String format to Date format\n",
        "\n",
        "# And look at the columns\n",
        "nir_act.head()"
      ],
      "execution_count": 0,
      "outputs": []
    },
    {
      "cell_type": "code",
      "metadata": {
        "id": "DpFy3QGphjIq",
        "colab_type": "code",
        "colab": {}
      },
      "source": [
        "# Describe the dataset - look at the Counts, Means, Standard Deviation and Quartiles for this data\n",
        "nir_act.describe()"
      ],
      "execution_count": 0,
      "outputs": []
    },
    {
      "cell_type": "code",
      "metadata": {
        "id": "agfWWZDVimBi",
        "colab_type": "code",
        "colab": {}
      },
      "source": [
        "# What is the most recent payment date?\n",
        "nir_act.payment_dt.max()"
      ],
      "execution_count": 0,
      "outputs": []
    },
    {
      "cell_type": "code",
      "metadata": {
        "id": "SRvMd7jJi8-p",
        "colab_type": "code",
        "colab": {}
      },
      "source": [
        "# How long does it take to pay an invoice - the difference between payment date and the date invoice received\n",
        "nir_act['payment_delay'] = nir_act.payment_dt - nir_act.invoice_received_dt\n",
        "# Turn that into a count of days (not a timedelta)\n",
        "nir_act['payment_delay_days'] = nir_act.payment_delay.astype('timedelta64[D]')\n",
        "# and look at it\n",
        "nir_act.payment_delay_days\n"
      ],
      "execution_count": 0,
      "outputs": []
    },
    {
      "cell_type": "markdown",
      "metadata": {
        "id": "Ir14oIYGUqPO",
        "colab_type": "text"
      },
      "source": [
        "## Distribution Shape\n",
        "Plot to see what the distribution looks like"
      ]
    },
    {
      "cell_type": "code",
      "metadata": {
        "id": "C9Ad8FzQqE6V",
        "colab_type": "code",
        "colab": {}
      },
      "source": [
        "#  Get our days column into a separate dataframe\n",
        "nir_days = nir_act.payment_delay_days.copy()\n",
        "# plot this - I have decided to use 7 days per bin (a week per bin)\n",
        "nir_days.plot.hist(by='payment_delay_days', bins=int(nir_days.count()/7))\n",
        "# and show the measures of central tendency\n",
        "nir_days.describe()"
      ],
      "execution_count": 0,
      "outputs": []
    },
    {
      "cell_type": "markdown",
      "metadata": {
        "id": "bMPpCunAWQz2",
        "colab_type": "text"
      },
      "source": [
        "## Is the MEDIAN (50%) equal to the mean?\n",
        "We can see from the shape that this is not a normal distribution"
      ]
    },
    {
      "cell_type": "code",
      "metadata": {
        "id": "W2AXeB2POn8V",
        "colab_type": "code",
        "colab": {}
      },
      "source": [
        "#  Get our days column into a separate dataframe\n",
        "nir_amounts = nir_act.payment_amount.copy()\n",
        "# plot this - I have decided to break the payments into 100 even payment amount intervals\n",
        "nir_amounts.plot.hist(by='payment_amount', bins=int(nir_amounts.count()/10))\n",
        "# and show the measures of central tendency, variation and distribution pattern\n",
        "nir_amounts.describe()"
      ],
      "execution_count": 0,
      "outputs": []
    },
    {
      "cell_type": "markdown",
      "metadata": {
        "id": "qx8vFP9bfn40",
        "colab_type": "text"
      },
      "source": [
        "Both distributions are skewed\n",
        "# Discussion\n",
        "## What causes the skew in this distribution?\n",
        "*   What are we measuring?\n",
        "*   What are the outliers?\n",
        "*   What causes the outliers?\n",
        "*   Is the mean near the peak (bin/mode)?\n",
        "*   Is the median near the peak?  Or near the mean?\n",
        "*   When discussing wealth distribution, or house prices, is the mean a useful measure?\n",
        "*   When looking at time periods for payment what causes a skew?\n",
        "*   Is a graph better than a list of numbers for understanding the pattern of a distribution?\n",
        "\n",
        "\n",
        "\n",
        "\n",
        "\n"
      ]
    },
    {
      "cell_type": "markdown",
      "metadata": {
        "id": "FWp9_3nHW8Da",
        "colab_type": "text"
      },
      "source": [
        "## Central Limit Theorem\n",
        "\n",
        "If we take smaller samples of this set of data values at random, and compute the mean of this sample; and repeat this a number of times - the resulting distribution of the MEANS of all the samples will form a normal distribution.\n",
        "\n",
        "### Let's test this theory with the invoice values (more extremely diverse with outrageous outliers)"
      ]
    },
    {
      "cell_type": "code",
      "metadata": {
        "id": "655N_2SG-aFR",
        "colab_type": "code",
        "colab": {}
      },
      "source": [
        "# CHECKING THE CENTRAL LIMIT THEOREM\n",
        "# Create a variable for the number of means for our distribution \n",
        "# - smaller numbers will be less \"normal\"\n",
        "# - larger numbers will be more normal\n",
        "# - we only have 1000 data points - but we can randomly sample these as many times as we like!\n",
        "clt_means_size = 32 # 32768 #16384 - some theories state that you only need 30 samples - but I don't think so\n",
        "print(nir_amounts.count())\n",
        "# How many elements will we sample each time?\n",
        "# not more than the number of data points (must be less than 1000)\n",
        "# not too small (again - 30 should be our minimum)\n",
        "clt_sample_size = int(nir_amounts.count() / 10) # this will make for 100 samples\n",
        "# create a set of zeroes the size of the number of means we will collect\n",
        "zeroes = np.zeros(clt_means_size)\n",
        "# turn the zeroes into a dataframe with a column called \"means\" - for the means we will put add\n",
        "clt_explore = pd.DataFrame(zeroes, index=np.arange(len(zeroes)), columns=['means'])\n",
        "# check that this has worked\n",
        "clt_explore.head()\n",
        "# for an index (i) between 0 and the number of means we wish to collect\n",
        "for i in range(clt_means_size):\n",
        "  # take a random sample of our original data, of our chosen sample size\n",
        "  samp = nir_amounts.sample(clt_sample_size)\n",
        "  # add the sample mean to our collection of means\n",
        "  clt_explore.at[i,'means'] = samp.mean()\n",
        "\n",
        "# DECISIONS FOR BIN SIZE - for plotting our sample means\n",
        "if (clt_means_size < 200):\n",
        "  bin_lim = 1\n",
        "elif (clt_means_size < 2000):\n",
        "  bin_lim = 2\n",
        "else:\n",
        "  bin_lim = clt_means_size / 1000\n",
        "# Calculate the bin_count (how many samples per bin)\n",
        "bin_count = int(clt_means_size/(np.log(clt_means_size)*bin_lim))\n",
        "#  print(bin_count)  # print to check bin_count calculation if you like\n",
        "\n",
        "# plot this as a histogram - should look normal-ish\n",
        "clt_explore.plot.hist(bins=bin_count, figsize=(12,6))\n",
        "\n",
        "# Tests for being NORMAL\n",
        "# Get the 1st quartile cutoff\n",
        "q1 = clt_explore.means.quantile(q=0.25)\n",
        "# Get the 3rd quartile\n",
        "q3 = clt_explore.means.quantile(q=0.75)\n",
        "# q3 - q1 is the IQR (interquartile range)\n",
        "iqr = q3 - q1\n",
        "# std is the standard deviation (default is correct for a sample)\n",
        "std = clt_explore.means.std()\n",
        "# compare the standard deviation with the IQR \n",
        "# - for a normal distribution we want a value close to 1.34898\n",
        "print ('IQR ratio to STD (should be around 1.34898): ',iqr/std)\n",
        "# compare the IQR to the minimum value. The minimum value should be close to, \n",
        "# but hopefully just below, Q1 - (1.5* IQR)\n",
        "print ('IQR compared to min (Q1 - 1.5*IQR): ', clt_explore.means.min(), ' ', q1-1.5*iqr)\n",
        "# compare the IQR to the maximum value. The maximum value should be close to, \n",
        "# but hopefully just above, Q3 + (1.5* IQR)\n",
        "print ('IQR compared to max (Q3 + 1.5*IQR): ', clt_explore.means.max(), ' ', q3+1.5*iqr)\n",
        "\n",
        "# For a normal distribution, the mean, median and mode should align\n",
        "# for continuous data we may have no mode\n",
        "# so - we can cut the dataframe into bins (using the same bin count as for plotting)\n",
        "# The first 5 \"value_counts()\" will show us the most popular bins\n",
        "print('Mode (by most popular bins)')\n",
        "print(pd.cut(clt_explore.means, bins=bin_count).value_counts().head())\n",
        "# This should be around the same as the median and mean\n",
        "\n",
        "# median == Q2 (the 50% quartile)\n",
        "clt_explore.describe()\n",
        "# We have also shown the \"mean of our means\", and the standard deviation of the mean of our samples\n"
      ],
      "execution_count": 0,
      "outputs": []
    },
    {
      "cell_type": "markdown",
      "metadata": {
        "id": "_5_PmDrsdnzI",
        "colab_type": "text"
      },
      "source": [
        "# Exercise for you\n",
        "\n",
        "### do the same with the nir_days\n",
        "\n",
        "Does the distribution change to a normal-ish distribution\n",
        "\n",
        "Does the Central Limit Theorm apply in this context?"
      ]
    },
    {
      "cell_type": "code",
      "metadata": {
        "id": "yHkHNTmeeThF",
        "colab_type": "code",
        "colab": {}
      },
      "source": [
        "# Copy the \"CHECKING THE CENTRAL LIMIT THEOREM\" cell here\n",
        "# and change nir_amounts to nir_days"
      ],
      "execution_count": 0,
      "outputs": []
    },
    {
      "cell_type": "markdown",
      "metadata": {
        "id": "JsU3nsGUTYdP",
        "colab_type": "text"
      },
      "source": [
        "# EXTRA \n",
        "## Time to Pay?\n",
        "#### **looking for relationships between independent variables**\n",
        "I decided to investigate the time taken to pay an invoice. Does it take longer for large amounts - I want to explore this relationship"
      ]
    },
    {
      "cell_type": "markdown",
      "metadata": {
        "id": "9ubdfmODTn1x",
        "colab_type": "text"
      },
      "source": [
        "Payment amounts can be huge.  Up to 4 million!  \n",
        "\n",
        "But more often smaller.\n",
        "\n",
        "This variability is problematic for establishing a relationship with \"time to pay\" as the range of those values is from 0 days to 400 days.  I deiced to investigate using a \"log of payment amount\".\n"
      ]
    },
    {
      "cell_type": "code",
      "metadata": {
        "id": "dJ6aVBSgpUO0",
        "colab_type": "code",
        "colab": {}
      },
      "source": [
        "# Create a column for the \"naural logarithm\" of the payment amount.\n",
        "nir_act['payment_amount_ln'] = np.log(nir_act.payment_amount)\n",
        "nir_act.payment_amount_ln"
      ],
      "execution_count": 0,
      "outputs": []
    },
    {
      "cell_type": "markdown",
      "metadata": {
        "id": "ZfrRBmNAeiCM",
        "colab_type": "text"
      },
      "source": [
        "## Plot to see if there is a relationship\n",
        "Plot payment_delays_days vs payment_amount_ln as a scatter plot\n",
        "\n",
        "Does it show any relationship?\n"
      ]
    },
    {
      "cell_type": "code",
      "metadata": {
        "id": "YuSQKa5ujjlH",
        "colab_type": "code",
        "colab": {}
      },
      "source": [
        "# Let's plot these to see if it looks like there is a relationship\n",
        "# we add a filter to exclude the longest payment delays: 'nir_act.payment_delay_days<200.0'\n",
        "# is it valid to filter to see the relationship?\n",
        "nir_act[nir_act.payment_delay_days<200.0].plot.scatter(x='payment_delay_days', y='payment_amount_ln', figsize=(8,8))"
      ],
      "execution_count": 0,
      "outputs": []
    },
    {
      "cell_type": "code",
      "metadata": {
        "id": "TR8B60fznoGJ",
        "colab_type": "code",
        "colab": {}
      },
      "source": [
        "# what if we filter for just the longest payment delays\n",
        "nir_act[nir_act.payment_delay_days>300.0].head()"
      ],
      "execution_count": 0,
      "outputs": []
    },
    {
      "cell_type": "markdown",
      "metadata": {
        "id": "W327ydMTnR1y",
        "colab_type": "text"
      },
      "source": [
        "In the next investigation we will look at relationships between independent variables in more detail"
      ]
    }
  ]
}