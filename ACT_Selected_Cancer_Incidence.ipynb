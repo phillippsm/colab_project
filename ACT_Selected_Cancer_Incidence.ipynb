{
  "nbformat": 4,
  "nbformat_minor": 0,
  "metadata": {
    "colab": {
      "name": "ACT_Selected_Cancer_Incidence.ipynb",
      "provenance": [],
      "collapsed_sections": [],
      "authorship_tag": "ABX9TyPLfCO7+SYfhhcPKMXuLRaJ",
      "include_colab_link": true
    },
    "kernelspec": {
      "name": "python3",
      "display_name": "Python 3"
    }
  },
  "cells": [
    {
      "cell_type": "markdown",
      "metadata": {
        "id": "view-in-github",
        "colab_type": "text"
      },
      "source": [
        "<a href=\"https://colab.research.google.com/github/phillippsm/colab_project/blob/colab_dev/ACT_Selected_Cancer_Incidence.ipynb\" target=\"_parent\"><img src=\"https://colab.research.google.com/assets/colab-badge.svg\" alt=\"Open In Colab\"/></a>"
      ]
    },
    {
      "cell_type": "markdown",
      "metadata": {
        "id": "2MOg9QQnel4y",
        "colab_type": "text"
      },
      "source": [
        "# Exploring Datasets using Python\n",
        "\n",
        "## Example: ACT Selected Cancer Incidence\n",
        "## Source: data.act.gov.au - ACT Open Data Portal\n",
        "\n",
        "### Author: Matthew Phillipps\n",
        "### Date: May 2020\n",
        "\n"
      ]
    },
    {
      "cell_type": "markdown",
      "metadata": {
        "id": "XCf2gNF3e89v",
        "colab_type": "text"
      },
      "source": [
        "Import Pandas\n",
        "\n",
        "Read the data DIRECTLY from the API\n",
        "\n",
        "Show what's inside [the first 5 rows]"
      ]
    },
    {
      "cell_type": "code",
      "metadata": {
        "id": "N1bzV8B_YS_a",
        "colab_type": "code",
        "outputId": "9285eb70-b918-458e-d0ba-350dbc31e6bd",
        "colab": {
          "base_uri": "https://localhost:8080/",
          "height": 202
        }
      },
      "source": [
        "# We need pandas to manage dataframes\n",
        "import pandas as pd\n",
        "# Let's read the data from ACT Open Data Portal\n",
        "df = pd.read_csv(\"https://www.data.act.gov.au/resource/a2ku-4dqc.csv\")\n",
        "# What's inside\n",
        "df.head()"
      ],
      "execution_count": 0,
      "outputs": [
        {
          "output_type": "execute_result",
          "data": {
            "text/html": [
              "<div>\n",
              "<style scoped>\n",
              "    .dataframe tbody tr th:only-of-type {\n",
              "        vertical-align: middle;\n",
              "    }\n",
              "\n",
              "    .dataframe tbody tr th {\n",
              "        vertical-align: top;\n",
              "    }\n",
              "\n",
              "    .dataframe thead th {\n",
              "        text-align: right;\n",
              "    }\n",
              "</style>\n",
              "<table border=\"1\" class=\"dataframe\">\n",
              "  <thead>\n",
              "    <tr style=\"text-align: right;\">\n",
              "      <th></th>\n",
              "      <th>cancertype</th>\n",
              "      <th>incidencemortality</th>\n",
              "      <th>year</th>\n",
              "      <th>sex</th>\n",
              "      <th>numberofcases</th>\n",
              "      <th>ageadjustedrate</th>\n",
              "      <th>incidencemortality_sex</th>\n",
              "    </tr>\n",
              "  </thead>\n",
              "  <tbody>\n",
              "    <tr>\n",
              "      <th>0</th>\n",
              "      <td>All sites C00-C96 excl C44</td>\n",
              "      <td>Mortality</td>\n",
              "      <td>2008</td>\n",
              "      <td>Female</td>\n",
              "      <td>223</td>\n",
              "      <td>136.1</td>\n",
              "      <td>Mortality Female</td>\n",
              "    </tr>\n",
              "    <tr>\n",
              "      <th>1</th>\n",
              "      <td>All sites C00-C96 excl C44</td>\n",
              "      <td>Mortality</td>\n",
              "      <td>2014</td>\n",
              "      <td>Female</td>\n",
              "      <td>219</td>\n",
              "      <td>110.0</td>\n",
              "      <td>Mortality Female</td>\n",
              "    </tr>\n",
              "    <tr>\n",
              "      <th>2</th>\n",
              "      <td>Lung C33, C34</td>\n",
              "      <td>Incidence</td>\n",
              "      <td>1999</td>\n",
              "      <td>Person</td>\n",
              "      <td>65</td>\n",
              "      <td>28.4</td>\n",
              "      <td>Incidence Person</td>\n",
              "    </tr>\n",
              "    <tr>\n",
              "      <th>3</th>\n",
              "      <td>Breast C50</td>\n",
              "      <td>Mortality</td>\n",
              "      <td>2009</td>\n",
              "      <td>Female</td>\n",
              "      <td>38</td>\n",
              "      <td>22.8</td>\n",
              "      <td>Mortality Female</td>\n",
              "    </tr>\n",
              "    <tr>\n",
              "      <th>4</th>\n",
              "      <td>All sites C00-C96 excl C44</td>\n",
              "      <td>Incidence</td>\n",
              "      <td>2004</td>\n",
              "      <td>Person</td>\n",
              "      <td>1307</td>\n",
              "      <td>466.9</td>\n",
              "      <td>Incidence Person</td>\n",
              "    </tr>\n",
              "  </tbody>\n",
              "</table>\n",
              "</div>"
            ],
            "text/plain": [
              "                   cancertype  ... incidencemortality_sex\n",
              "0  All sites C00-C96 excl C44  ...       Mortality Female\n",
              "1  All sites C00-C96 excl C44  ...       Mortality Female\n",
              "2               Lung C33, C34  ...       Incidence Person\n",
              "3                  Breast C50  ...       Mortality Female\n",
              "4  All sites C00-C96 excl C44  ...       Incidence Person\n",
              "\n",
              "[5 rows x 7 columns]"
            ]
          },
          "metadata": {
            "tags": []
          },
          "execution_count": 2
        }
      ]
    },
    {
      "cell_type": "code",
      "metadata": {
        "id": "270xAl8dcALW",
        "colab_type": "code",
        "outputId": "2f5b5668-5bb2-440c-83e5-4fa21314c847",
        "colab": {
          "base_uri": "https://localhost:8080/",
          "height": 134
        }
      },
      "source": [
        "print (\"Number of types of cancer: {0}\".format(df.cancertype.unique().size))\n",
        "for ct in df.cancertype.unique():\n",
        "  print(ct)"
      ],
      "execution_count": 0,
      "outputs": [
        {
          "output_type": "stream",
          "text": [
            "Number of types of cancer: 6\n",
            "All sites C00-C96 excl C44\n",
            "Lung C33, C34\n",
            "Breast C50\n",
            "Melanoma of skin C43\n",
            "Prostate C61\n",
            "Bowel C18-C20\n"
          ],
          "name": "stdout"
        }
      ]
    },
    {
      "cell_type": "code",
      "metadata": {
        "id": "O1IQAxoTdojs",
        "colab_type": "code",
        "outputId": "f8c3019e-2a7b-4e83-8a6c-d3d5eeb96c42",
        "colab": {
          "base_uri": "https://localhost:8080/",
          "height": 139
        }
      },
      "source": [
        "print (\"Number of types of cancer: {0}\".format(df[\"cancertype\"].unique().size))\n",
        "for ct in df[\"cancertype\"].unique():\n",
        "  print(ct)"
      ],
      "execution_count": 0,
      "outputs": [
        {
          "output_type": "stream",
          "text": [
            "Number of types of cancer: 6\n",
            "All sites C00-C96 excl C44\n",
            "Lung C33, C34\n",
            "Breast C50\n",
            "Melanoma of skin C43\n",
            "Prostate C61\n",
            "Bowel C18-C20\n"
          ],
          "name": "stdout"
        }
      ]
    },
    {
      "cell_type": "markdown",
      "metadata": {
        "id": "qZVLwoQYeibL",
        "colab_type": "text"
      },
      "source": [
        "# Your Turn\n",
        "\n",
        "What are the unique values of the other columns [not numeric columns]"
      ]
    },
    {
      "cell_type": "code",
      "metadata": {
        "id": "UR_yiXfJYUGB",
        "colab_type": "code",
        "outputId": "66dbebfe-b965-477e-98a8-22a81ea8db60",
        "colab": {
          "base_uri": "https://localhost:8080/",
          "height": 69
        }
      },
      "source": [
        "print (\"Number of types of mortality: {0}\".format(df.incidencemortality.unique().size))\n",
        "for ct in df.incidencemortality.unique():\n",
        "  print(ct)"
      ],
      "execution_count": 0,
      "outputs": [
        {
          "output_type": "stream",
          "text": [
            "Number of types of mortality: 2\n",
            "Mortality\n",
            "Incidence\n"
          ],
          "name": "stdout"
        }
      ]
    },
    {
      "cell_type": "code",
      "metadata": {
        "id": "Wpr87dkmYhBl",
        "colab_type": "code",
        "outputId": "7fa9b5ea-a186-4b9b-df05-e0d60d101797",
        "colab": {
          "base_uri": "https://localhost:8080/",
          "height": 87
        }
      },
      "source": [
        "print (\"Number of types of sex: {0}\".format(df.sex.unique().size))\n",
        "for ct in df.sex.unique():\n",
        "  print(ct)"
      ],
      "execution_count": 0,
      "outputs": [
        {
          "output_type": "stream",
          "text": [
            "Number of types of sex: 3\n",
            "Female\n",
            "Person\n",
            "Male\n"
          ],
          "name": "stdout"
        }
      ]
    },
    {
      "cell_type": "code",
      "metadata": {
        "id": "QzsmRkglYwDF",
        "colab_type": "code",
        "outputId": "3980b65a-ce22-41bb-ce7d-f236df8fd998",
        "colab": {
          "base_uri": "https://localhost:8080/",
          "height": 139
        }
      },
      "source": [
        "print (\"Number of types of ims: {0}\".format(df.incidencemortality_sex.unique().size))\n",
        "for ct in df.sort_values(by=[\"sex\",\"incidencemortality\"]).incidencemortality_sex.unique():\n",
        "  print(ct)"
      ],
      "execution_count": 0,
      "outputs": [
        {
          "output_type": "stream",
          "text": [
            "Number of types of ims: 6\n",
            "Incidence Female\n",
            "Mortality Female\n",
            "Incidence Male\n",
            "Mortality Male\n",
            "Incidence Person\n",
            "Mortality Person\n"
          ],
          "name": "stdout"
        }
      ]
    },
    {
      "cell_type": "markdown",
      "metadata": {
        "id": "vIHFgJOqfg1j",
        "colab_type": "text"
      },
      "source": [
        "## Describe the dataset"
      ]
    },
    {
      "cell_type": "code",
      "metadata": {
        "id": "82bkiis2ffwW",
        "colab_type": "code",
        "outputId": "1cd8f1c3-261f-4502-bd95-de3553f5389b",
        "colab": {
          "base_uri": "https://localhost:8080/",
          "height": 294
        }
      },
      "source": [
        "df.describe()"
      ],
      "execution_count": 0,
      "outputs": [
        {
          "output_type": "execute_result",
          "data": {
            "text/html": [
              "<div>\n",
              "<style scoped>\n",
              "    .dataframe tbody tr th:only-of-type {\n",
              "        vertical-align: middle;\n",
              "    }\n",
              "\n",
              "    .dataframe tbody tr th {\n",
              "        vertical-align: top;\n",
              "    }\n",
              "\n",
              "    .dataframe thead th {\n",
              "        text-align: right;\n",
              "    }\n",
              "</style>\n",
              "<table border=\"1\" class=\"dataframe\">\n",
              "  <thead>\n",
              "    <tr style=\"text-align: right;\">\n",
              "      <th></th>\n",
              "      <th>year</th>\n",
              "      <th>numberofcases</th>\n",
              "      <th>ageadjustedrate</th>\n",
              "    </tr>\n",
              "  </thead>\n",
              "  <tbody>\n",
              "    <tr>\n",
              "      <th>count</th>\n",
              "      <td>764.000000</td>\n",
              "      <td>764.000000</td>\n",
              "      <td>764.000000</td>\n",
              "    </tr>\n",
              "    <tr>\n",
              "      <th>mean</th>\n",
              "      <td>1999.784031</td>\n",
              "      <td>171.742147</td>\n",
              "      <td>110.947251</td>\n",
              "    </tr>\n",
              "    <tr>\n",
              "      <th>std</th>\n",
              "      <td>8.829933</td>\n",
              "      <td>262.110034</td>\n",
              "      <td>136.914073</td>\n",
              "    </tr>\n",
              "    <tr>\n",
              "      <th>min</th>\n",
              "      <td>1985.000000</td>\n",
              "      <td>6.000000</td>\n",
              "      <td>10.000000</td>\n",
              "    </tr>\n",
              "    <tr>\n",
              "      <th>25%</th>\n",
              "      <td>1992.000000</td>\n",
              "      <td>37.750000</td>\n",
              "      <td>29.500000</td>\n",
              "    </tr>\n",
              "    <tr>\n",
              "      <th>50%</th>\n",
              "      <td>2000.000000</td>\n",
              "      <td>67.000000</td>\n",
              "      <td>45.900000</td>\n",
              "    </tr>\n",
              "    <tr>\n",
              "      <th>75%</th>\n",
              "      <td>2007.000000</td>\n",
              "      <td>185.000000</td>\n",
              "      <td>135.950000</td>\n",
              "    </tr>\n",
              "    <tr>\n",
              "      <th>max</th>\n",
              "      <td>2015.000000</td>\n",
              "      <td>1677.000000</td>\n",
              "      <td>585.200000</td>\n",
              "    </tr>\n",
              "  </tbody>\n",
              "</table>\n",
              "</div>"
            ],
            "text/plain": [
              "              year  numberofcases  ageadjustedrate\n",
              "count   764.000000     764.000000       764.000000\n",
              "mean   1999.784031     171.742147       110.947251\n",
              "std       8.829933     262.110034       136.914073\n",
              "min    1985.000000       6.000000        10.000000\n",
              "25%    1992.000000      37.750000        29.500000\n",
              "50%    2000.000000      67.000000        45.900000\n",
              "75%    2007.000000     185.000000       135.950000\n",
              "max    2015.000000    1677.000000       585.200000"
            ]
          },
          "metadata": {
            "tags": []
          },
          "execution_count": 14
        }
      ]
    },
    {
      "cell_type": "code",
      "metadata": {
        "id": "Pzge4QfwgC2N",
        "colab_type": "code",
        "outputId": "a7a8e09e-a6ec-445e-e126-fb2bbc5ce6c0",
        "colab": {
          "base_uri": "https://localhost:8080/",
          "height": 282
        }
      },
      "source": [
        "df.plot()"
      ],
      "execution_count": 0,
      "outputs": [
        {
          "output_type": "execute_result",
          "data": {
            "text/plain": [
              "<matplotlib.axes._subplots.AxesSubplot at 0x7f7216531b00>"
            ]
          },
          "metadata": {
            "tags": []
          },
          "execution_count": 17
        },
        {
          "output_type": "display_data",
          "data": {
            "image/png": "[encoded data removed]",
            "text/plain": [
              "<Figure size 432x288 with 1 Axes>"
            ]
          },
          "metadata": {
            "tags": []
          }
        }
      ]
    }
  ]
}