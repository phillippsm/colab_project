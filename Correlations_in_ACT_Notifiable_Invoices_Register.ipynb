{
  "nbformat": 4,
  "nbformat_minor": 0,
  "metadata": {
    "colab": {
      "name": "Correlations in ACT Notifiable Invoices Register.ipynb",
      "provenance": [],
      "collapsed_sections": [],
      "authorship_tag": "ABX9TyMkgS5k8pWajScc8dXzvQOc",
      "include_colab_link": true
    },
    "kernelspec": {
      "name": "python3",
      "display_name": "Python 3"
    }
  },
  "cells": [
    {
      "cell_type": "markdown",
      "metadata": {
        "id": "view-in-github",
        "colab_type": "text"
      },
      "source": [
        "<a href=\"https://colab.research.google.com/github/phillippsm/colab_project/blob/colab_dev/Correlations_in_ACT_Notifiable_Invoices_Register.ipynb\" target=\"_parent\"><img src=\"https://colab.research.google.com/assets/colab-badge.svg\" alt=\"Open In Colab\"/></a>"
      ]
    },
    {
      "cell_type": "markdown",
      "metadata": {
        "id": "DgZ7nWCfRqn9",
        "colab_type": "text"
      },
      "source": [
        "# Exploring Datasets\n",
        "### Correlations\n"
      ]
    },
    {
      "cell_type": "code",
      "metadata": {
        "id": "gHLYtQiqcoxP",
        "colab_type": "code",
        "colab": {}
      },
      "source": [
        "# We need Pandas and NumPy for these exercises\n",
        "import pandas as pd\n",
        "import numpy as np"
      ],
      "execution_count": 0,
      "outputs": []
    },
    {
      "cell_type": "markdown",
      "metadata": {
        "id": "rwViTx_NSD3K",
        "colab_type": "text"
      },
      "source": [
        "### ACT Government Open Data Portal\n",
        "#### Notifiable Invoices Register"
      ]
    },
    {
      "cell_type": "code",
      "metadata": {
        "id": "8tI1aQWghVM2",
        "colab_type": "code",
        "colab": {}
      },
      "source": [
        "# Read the latest 1000 records from the Notifiable Invoices Register API\n",
        "nir_act = pd.read_csv(\"https://www.data.act.gov.au/resource/kzmf-7uhp.csv\", parse_dates={\"invoice_received_dt\": ['date_invoice_received'], \"payment_dt\": ['payment_date']})\n",
        "# This also converts dates from String format to Date format\n",
        "\n",
        "# And look at the columns\n",
        "nir_act.head()"
      ],
      "execution_count": 0,
      "outputs": []
    },
    {
      "cell_type": "markdown",
      "metadata": {
        "id": "EJpMAhuJeSVg",
        "colab_type": "text"
      },
      "source": [
        "## Payment Delay\n",
        "Lets calculate the number of days between the invoice being created and the p[ayment being made.  We will call this the payment_delay.  \n",
        "\n",
        "Is the delay correlated with the amount to be paid?"
      ]
    },
    {
      "cell_type": "code",
      "metadata": {
        "id": "SRvMd7jJi8-p",
        "colab_type": "code",
        "colab": {}
      },
      "source": [
        "# How long does it take to pay an invoice - the difference between payment date and the date invoice received\n",
        "nir_act['payment_delay'] = nir_act.payment_dt - nir_act.invoice_received_dt\n",
        "# Turn that into a count of days (not a timedelta)\n",
        "nir_act['payment_delay_days'] = nir_act.payment_delay.astype('timedelta64[D]')\n",
        "# and look at it\n",
        "nir_act.payment_delay_days\n"
      ],
      "execution_count": 0,
      "outputs": []
    },
    {
      "cell_type": "markdown",
      "metadata": {
        "id": "zM-UQvl6euCa",
        "colab_type": "text"
      },
      "source": [
        "## Payment Amounts have a high variability.\n",
        "\n",
        "Let's tame this by calculating the logarithm of the payment amount.\n",
        "\n",
        "Perhaps we shall see a higher correlation with the logorithm of a payment, than with the raw payments amount."
      ]
    },
    {
      "cell_type": "code",
      "metadata": {
        "id": "dJ6aVBSgpUO0",
        "colab_type": "code",
        "colab": {}
      },
      "source": [
        "# Create a column for the \"naural logarithm\" of the payment amount.\n",
        "nir_act['payment_amount_ln'] = np.log(nir_act.payment_amount)\n",
        "nir_act.payment_amount_ln"
      ],
      "execution_count": 0,
      "outputs": []
    },
    {
      "cell_type": "markdown",
      "metadata": {
        "id": "ZfrRBmNAeiCM",
        "colab_type": "text"
      },
      "source": [
        "## Plot to see if there is a relationship\n",
        "Plot payment_delays_days vs payment_amount_ln as a scatter plot\n",
        "\n",
        "Does it show any relationship?\n"
      ]
    },
    {
      "cell_type": "code",
      "metadata": {
        "id": "YuSQKa5ujjlH",
        "colab_type": "code",
        "colab": {}
      },
      "source": [
        "# Let's plot these to see if it looks like there is a relationship\n",
        "# we add a filter to exclude the longest payment delays: 'nir_act.payment_delay_days<200.0'\n",
        "# is it valid to filter to see the relationship?\n",
        "nir_act[nir_act.payment_delay_days<200.0].plot.scatter(x='payment_delay_days', y='payment_amount_ln', figsize=(8,8))"
      ],
      "execution_count": 0,
      "outputs": []
    },
    {
      "cell_type": "markdown",
      "metadata": {
        "id": "8Lgb8h6WfCkz",
        "colab_type": "text"
      },
      "source": [
        "Let's adjust that filter...."
      ]
    },
    {
      "cell_type": "code",
      "metadata": {
        "id": "TR8B60fznoGJ",
        "colab_type": "code",
        "colab": {}
      },
      "source": [
        "# Let's plot these to see if it looks like there is a relationship\n",
        "# we add a filter to exclude the longest payment delays: 'nir_act.payment_delay_days<200.0'\n",
        "# is it valid to filter to see the relationship?\n",
        "nir_act[(nir_act.payment_delay_days<200.0) & (nir_act.payment_amount_ln> 9.5)].plot.scatter(x='payment_delay_days', y='payment_amount_ln', figsize=(8,8))"
      ],
      "execution_count": 0,
      "outputs": []
    },
    {
      "cell_type": "markdown",
      "metadata": {
        "id": "rQ9oG3ucfAgG",
        "colab_type": "text"
      },
      "source": [
        "Save the filter and calculate correlation using the Pearson method"
      ]
    },
    {
      "cell_type": "code",
      "metadata": {
        "id": "SLx0EzXsc4aw",
        "colab_type": "code",
        "colab": {}
      },
      "source": [
        "filtered_nir = nir_act[(nir_act.payment_delay_days<200.0) & (nir_act.payment_amount_ln> 9.5)]\n",
        "filtered_nir.corr(method='pearson')"
      ],
      "execution_count": 0,
      "outputs": []
    },
    {
      "cell_type": "markdown",
      "metadata": {
        "id": "-7EBedCQfMgr",
        "colab_type": "text"
      },
      "source": [
        "And again using Spearman."
      ]
    },
    {
      "cell_type": "code",
      "metadata": {
        "id": "Ag-jqgsmdNuI",
        "colab_type": "code",
        "colab": {}
      },
      "source": [
        "filtered_nir.corr(method='spearman')"
      ],
      "execution_count": 0,
      "outputs": []
    },
    {
      "cell_type": "markdown",
      "metadata": {
        "id": "axGfiKDhdvm1",
        "colab_type": "text"
      },
      "source": [
        "## Interpretation\n",
        "\n",
        "Is there any significant linear or non-linear correlation?\n",
        "\n",
        "Does this make sense?\n",
        "\n",
        "\n",
        "# Your Turn\n",
        "\n",
        "What if we DID NOT FILTER?  How is the correlation affected by this?\n",
        "\n",
        "Does it get stronger or weaker?\n",
        "\n",
        "\n",
        "hint: replace \"filtered_nir\" with \"nir_act\" in the correlation calulation\n",
        "\n"
      ]
    },
    {
      "cell_type": "code",
      "metadata": {
        "id": "0XkMV-ker42P",
        "colab_type": "code",
        "colab": {}
      },
      "source": [
        "# Your code here"
      ],
      "execution_count": 0,
      "outputs": []
    },
    {
      "cell_type": "markdown",
      "metadata": {
        "id": "5FldhooAr361",
        "colab_type": "text"
      },
      "source": [
        "Should we calculate a p-value for this correlation?"
      ]
    },
    {
      "cell_type": "code",
      "metadata": {
        "id": "zcla4v3ariKd",
        "colab_type": "code",
        "colab": {}
      },
      "source": [
        "# Is it worthwhile calculating a p-value?\n",
        "\n",
        "from scipy.stats import ttest_ind\n",
        "\n",
        "ttest_ind(filtered_nir.payment_delay_days, filtered_nir.payment_amount_ln, equal_var=False)"
      ],
      "execution_count": 0,
      "outputs": []
    }
  ]
}