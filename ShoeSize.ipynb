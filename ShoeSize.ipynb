{
  "nbformat": 4,
  "nbformat_minor": 0,
  "metadata": {
    "colab": {
      "name": "ShoeSize.ipynb",
      "provenance": [],
      "collapsed_sections": [],
      "authorship_tag": "ABX9TyM72OdNHy9bbR6D7UlQh30p",
      "include_colab_link": true
    },
    "kernelspec": {
      "name": "python3",
      "display_name": "Python 3"
    }
  },
  "cells": [
    {
      "cell_type": "markdown",
      "metadata": {
        "id": "view-in-github",
        "colab_type": "text"
      },
      "source": [
        "<a href=\"https://colab.research.google.com/github/phillippsm/colab_project/blob/colab_dev/ShoeSize.ipynb\" target=\"_parent\"><img src=\"https://colab.research.google.com/assets/colab-badge.svg\" alt=\"Open In Colab\"/></a>"
      ]
    },
    {
      "cell_type": "markdown",
      "metadata": {
        "id": "0rBVVxqrOQrx",
        "colab_type": "text"
      },
      "source": [
        "# Shoe Size vs Height\n",
        "\n",
        "Explore this by running cells. Do we need to make changes?\n",
        "\n",
        "How do we interpret the correlation result (Pearson) that we find at the end?"
      ]
    },
    {
      "cell_type": "code",
      "metadata": {
        "id": "VzldRTNpOLNq",
        "colab_type": "code",
        "colab": {}
      },
      "source": [
        "import numpy as np\n",
        "import pandas as pd\n",
        "import matplotlib.pyplot as plt\n"
      ],
      "execution_count": 0,
      "outputs": []
    },
    {
      "cell_type": "markdown",
      "metadata": {
        "id": "ev-Gl1TMU-CH",
        "colab_type": "text"
      },
      "source": [
        "## Get some data - original source is [here](https://osf.io/ja9dw/)"
      ]
    },
    {
      "cell_type": "code",
      "metadata": {
        "id": "fZHOGeCtOkl8",
        "colab_type": "code",
        "colab": {}
      },
      "source": [
        "ss_df = pd.read_csv(\"http://cyclicautomata.com/stuff/data/shoe_size.csv\", parse_dates=['time'])"
      ],
      "execution_count": 0,
      "outputs": []
    },
    {
      "cell_type": "markdown",
      "metadata": {
        "id": "RM0nxoJvVSI_",
        "colab_type": "text"
      },
      "source": [
        "## What's in the dataset?\n",
        "Look at the data"
      ]
    },
    {
      "cell_type": "code",
      "metadata": {
        "id": "1J-oqUe_QHsf",
        "colab_type": "code",
        "colab": {}
      },
      "source": [
        "ss_df.head()"
      ],
      "execution_count": 0,
      "outputs": []
    },
    {
      "cell_type": "markdown",
      "metadata": {
        "id": "T22yHB_UVVb_",
        "colab_type": "text"
      },
      "source": [
        "## Visualise it\n",
        "Plot the data to see its range and likely correlation"
      ]
    },
    {
      "cell_type": "code",
      "metadata": {
        "id": "CfDcY1BsQyTy",
        "colab_type": "code",
        "colab": {}
      },
      "source": [
        "ss_df.plot.scatter(x='shoe_size', y='height')"
      ],
      "execution_count": 0,
      "outputs": []
    },
    {
      "cell_type": "markdown",
      "metadata": {
        "id": "sbrnFYgHVmRR",
        "colab_type": "text"
      },
      "source": [
        "## Start to Filter\n",
        "Height of zero is invalid for this analysis - and will invalidate the correlation.\n",
        "\n",
        "Let's filter out height less than 100 cm"
      ]
    },
    {
      "cell_type": "code",
      "metadata": {
        "id": "J-4xIonyRcwb",
        "colab_type": "code",
        "colab": {}
      },
      "source": [
        "ss_df[ss_df.height>100].plot.scatter(x='shoe_size', y='height')"
      ],
      "execution_count": 0,
      "outputs": []
    },
    {
      "cell_type": "markdown",
      "metadata": {
        "id": "N5PIUS4nV3Md",
        "colab_type": "text"
      },
      "source": [
        "## Outlier Validity?\n",
        "\n",
        "One data point has a height over 350cm\n",
        "\n",
        "This seems improbable.  We should discard this data point pending further information about the quality of the data."
      ]
    },
    {
      "cell_type": "code",
      "metadata": {
        "id": "dr9oOcD6R0fo",
        "colab_type": "code",
        "colab": {}
      },
      "source": [
        "# is the outlier OK - a height of over 350cm seems improbable\n",
        "ss_df[(ss_df.height>100) & (ss_df.height<300)].plot.scatter(x='shoe_size', y='height')"
      ],
      "execution_count": 0,
      "outputs": []
    },
    {
      "cell_type": "markdown",
      "metadata": {
        "id": "K8-i7HPRWK7x",
        "colab_type": "text"
      },
      "source": [
        "This looks much better\n",
        "\n",
        "## Make it so\n",
        "Put the filtered data into a separate dataframe (called filtered_ss)\n",
        "\n",
        "***Should we look at separating data by \"sex\"?***"
      ]
    },
    {
      "cell_type": "code",
      "metadata": {
        "id": "Cbt0jGa_Sjr7",
        "colab_type": "code",
        "colab": {}
      },
      "source": [
        "filtered_ss = ss_df[(ss_df.height>100) & (ss_df.height<300)]\n",
        "#filtered_ss.drop(['time','sex'],axis=1,inplace=True)\n",
        "filtered_ss.plot.scatter(x='shoe_size', y='height')\n",
        "filtered_ss[filtered_ss.sex=='man'].plot.scatter(x='shoe_size', y='height')\n",
        "filtered_ss[filtered_ss.sex=='woman'].plot.scatter(x='shoe_size', y='height')"
      ],
      "execution_count": 0,
      "outputs": []
    },
    {
      "cell_type": "markdown",
      "metadata": {
        "id": "UfVfnZC_WohE",
        "colab_type": "text"
      },
      "source": [
        "## Find the correlation between the columns\n",
        "\n",
        "Pandas has a single dataframe.corr() method to do this.\n",
        "\n",
        "You tell corr() which method you wish to use:\n",
        "* pearson : standard correlation coefficient\n",
        "* kendall : Kendall Tau correlation coefficient\n",
        "* spearman : Spearman rank correlation\n",
        "* callable: callable with input two 1d ndarrays (your custom code)\n",
        "\n"
      ]
    },
    {
      "cell_type": "code",
      "metadata": {
        "id": "2BV86s5eSunx",
        "colab_type": "code",
        "colab": {}
      },
      "source": [
        "filtered_ss.corr(method='pearson')"
      ],
      "execution_count": 0,
      "outputs": []
    },
    {
      "cell_type": "markdown",
      "metadata": {
        "id": "hlHxWWwzXREt",
        "colab_type": "text"
      },
      "source": [
        "The result is a matrix showing \"column A copared with column B\".\n",
        "\n",
        "Height is perfectly correlated with height, because IT IS THE SAME VALUE.\n",
        "\n",
        "### What is we filter by \"sex\" - are there differences in correlation?"
      ]
    },
    {
      "cell_type": "code",
      "metadata": {
        "id": "Nsk1RodZUTzx",
        "colab_type": "code",
        "colab": {}
      },
      "source": [
        "filtered_ss[filtered_ss.sex=='man'].corr(method='pearson')"
      ],
      "execution_count": 0,
      "outputs": []
    },
    {
      "cell_type": "code",
      "metadata": {
        "id": "nt4VaKMyUk3n",
        "colab_type": "code",
        "colab": {}
      },
      "source": [
        "filtered_ss[filtered_ss.sex=='woman'].corr(method='pearson')"
      ],
      "execution_count": 0,
      "outputs": []
    },
    {
      "cell_type": "markdown",
      "metadata": {
        "id": "u7_XUZ9lq0uY",
        "colab_type": "text"
      },
      "source": [
        "The ttest from scipy stats for indepdenent variables gives us a p-value.\n",
        "\n",
        "A p-value of less than 0.05 (5% chance) is usually interpreted as significant.\n",
        "\n",
        "What is our p-value for shoe size vs height?"
      ]
    },
    {
      "cell_type": "code",
      "metadata": {
        "id": "LG2IP2AYZmwW",
        "colab_type": "code",
        "colab": {}
      },
      "source": [
        "from scipy.stats import ttest_ind\n",
        "\n",
        "ttest_ind(filtered_ss.height, filtered_ss.shoe_size, equal_var=False)"
      ],
      "execution_count": 0,
      "outputs": []
    }
  ]
}